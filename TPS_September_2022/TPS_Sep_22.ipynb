{
 "cells": [
  {
   "attachments": {},
   "cell_type": "markdown",
   "metadata": {},
   "source": [
    "# Importing Necessary Libraries"
   ]
  },
  {
   "cell_type": "code",
   "execution_count": 47,
   "metadata": {},
   "outputs": [],
   "source": [
    "import pandas as pd\n",
    "import numpy as np\n",
    "import keras\n",
    "import matplotlib.pyplot as plt\n",
    "from sklearn.preprocessing import OneHotEncoder,StandardScaler\n",
    "from sklearn.model_selection import train_test_split\n",
    "from sklearn.metrics import mean_squared_error"
   ]
  },
  {
   "attachments": {},
   "cell_type": "markdown",
   "metadata": {},
   "source": [
    "# Reading the data"
   ]
  },
  {
   "cell_type": "code",
   "execution_count": 48,
   "metadata": {},
   "outputs": [],
   "source": [
    "data = pd.read_csv('train.csv')\n",
    "x_data = data.iloc[:,:5]\n",
    "y_data = data.iloc[:,5]\n",
    "data_t = pd.read_csv('test.csv')"
   ]
  },
  {
   "attachments": {},
   "cell_type": "markdown",
   "metadata": {},
   "source": [
    "# One Hot Encoding and Fetaure Engineering"
   ]
  },
  {
   "cell_type": "code",
   "execution_count": 49,
   "metadata": {},
   "outputs": [],
   "source": [
    "def preprocessor(data):\n",
    "    data.date = pd.to_datetime(data.date)\n",
    "\n",
    "    data['month'] = data.date.dt.month\n",
    "    data['day'] = data.date.dt.day\n",
    "    data.drop(columns=['date'],inplace=True)\n",
    "\n",
    "    row_id = data.row_id\n",
    "    ohe = OneHotEncoder()\n",
    "    features_transformed = ohe.fit_transform(data[['country','store','product']]).toarray()\n",
    "    feature_labels = ohe.categories_\n",
    "    feature_labels = np.hstack(feature_labels)\n",
    "\n",
    "    data = pd.DataFrame(features_transformed,columns=feature_labels).merge(data[['month','day']],left_index=True,right_index=True,how='inner')\n",
    "     \n",
    "    return data, row_id"
   ]
  },
  {
   "attachments": {},
   "cell_type": "markdown",
   "metadata": {},
   "source": [
    "# Train Test Split"
   ]
  },
  {
   "cell_type": "code",
   "execution_count": 50,
   "metadata": {},
   "outputs": [],
   "source": [
    "x_data_p, row_id = preprocessor(x_data)"
   ]
  },
  {
   "cell_type": "code",
   "execution_count": 8,
   "metadata": {},
   "outputs": [],
   "source": [
    "x_train_full,x_test,y_train_full,y_test = train_test_split(x_data_p,y_data, test_size=0.2, random_state=42)\n",
    "x_train,x_valid,y_train,y_valid = train_test_split(x_train_full,y_train_full,test_size=0.3,random_state=42)"
   ]
  },
  {
   "cell_type": "code",
   "execution_count": 9,
   "metadata": {},
   "outputs": [
    {
     "name": "stdout",
     "output_type": "stream",
     "text": [
      "(39271, 14) (14026, 14) (16831, 14)\n"
     ]
    }
   ],
   "source": [
    "print(x_train.shape,x_test.shape,x_valid.shape)"
   ]
  },
  {
   "cell_type": "code",
   "execution_count": 10,
   "metadata": {},
   "outputs": [
    {
     "name": "stdout",
     "output_type": "stream",
     "text": [
      "1.0    0.501574\n",
      "0.0    0.498426\n",
      "Name: KaggleMart, dtype: float64 1.0    0.501854\n",
      "0.0    0.498146\n",
      "Name: KaggleMart, dtype: float64 0.0    0.501337\n",
      "1.0    0.498663\n",
      "Name: KaggleMart, dtype: float64\n"
     ]
    }
   ],
   "source": [
    "print(((x_valid['KaggleMart'].value_counts())/x_valid.shape[0]),((x_test['KaggleMart'].value_counts())/x_test.shape[0]),((x_train['KaggleMart'].value_counts())/x_train.shape[0]))"
   ]
  },
  {
   "attachments": {},
   "cell_type": "markdown",
   "metadata": {},
   "source": [
    "# Preprocessing"
   ]
  },
  {
   "cell_type": "code",
   "execution_count": 11,
   "metadata": {},
   "outputs": [],
   "source": [
    "ss = StandardScaler()\n",
    "x_train= ss.fit_transform(x_train)\n",
    "x_test = ss.fit_transform(x_test)\n",
    "x_valid =ss.fit_transform(x_valid)"
   ]
  },
  {
   "attachments": {},
   "cell_type": "markdown",
   "metadata": {},
   "source": [
    "# Basic Sequential Neural Network"
   ]
  },
  {
   "cell_type": "code",
   "execution_count": 22,
   "metadata": {},
   "outputs": [],
   "source": [
    "model = keras.models.Sequential([\n",
    "    keras.layers.Input(shape = x_train.shape[1:]),\n",
    "    keras.layers.Dense(300, activation='selu',kernel_initializer='lecun_normal'),\n",
    "    keras.layers.Dense(1)\n",
    "])"
   ]
  },
  {
   "cell_type": "code",
   "execution_count": 23,
   "metadata": {},
   "outputs": [],
   "source": [
    "model.compile(optimizer=keras.optimizers.SGD(momentum=0.9, nesterov=True),loss='mae')"
   ]
  },
  {
   "cell_type": "code",
   "execution_count": 24,
   "metadata": {},
   "outputs": [
    {
     "name": "stdout",
     "output_type": "stream",
     "text": [
      "Epoch 1/30\n",
      "1228/1228 [==============================] - 9s 6ms/step - loss: 73.8220 - val_loss: 32.1043\n",
      "Epoch 2/30\n",
      "1228/1228 [==============================] - 7s 6ms/step - loss: 30.7872 - val_loss: 30.5882\n",
      "Epoch 3/30\n",
      "1228/1228 [==============================] - 7s 6ms/step - loss: 29.9688 - val_loss: 30.3143\n",
      "Epoch 4/30\n",
      "1228/1228 [==============================] - 6s 5ms/step - loss: 29.5960 - val_loss: 29.8426\n",
      "Epoch 5/30\n",
      "1228/1228 [==============================] - 7s 6ms/step - loss: 29.3462 - val_loss: 29.7204\n",
      "Epoch 6/30\n",
      "1228/1228 [==============================] - 8s 6ms/step - loss: 29.1458 - val_loss: 29.4978\n",
      "Epoch 7/30\n",
      "1228/1228 [==============================] - 8s 6ms/step - loss: 28.9848 - val_loss: 29.3197\n",
      "Epoch 8/30\n",
      "1228/1228 [==============================] - 8s 6ms/step - loss: 28.8407 - val_loss: 29.3964\n",
      "Epoch 9/30\n",
      "1228/1228 [==============================] - 8s 6ms/step - loss: 28.7328 - val_loss: 29.0342\n",
      "Epoch 10/30\n",
      "1228/1228 [==============================] - 8s 6ms/step - loss: 28.6079 - val_loss: 28.9106\n",
      "Epoch 11/30\n",
      "1228/1228 [==============================] - 8s 6ms/step - loss: 28.5066 - val_loss: 28.8776\n",
      "Epoch 12/30\n",
      "1228/1228 [==============================] - 8s 6ms/step - loss: 28.4127 - val_loss: 28.8629\n",
      "Epoch 13/30\n",
      "1228/1228 [==============================] - 8s 6ms/step - loss: 28.3396 - val_loss: 28.5500\n",
      "Epoch 14/30\n",
      "1228/1228 [==============================] - 8s 6ms/step - loss: 28.2567 - val_loss: 28.5696\n",
      "Epoch 15/30\n",
      "1228/1228 [==============================] - 8s 6ms/step - loss: 28.1787 - val_loss: 28.4443\n",
      "Epoch 16/30\n",
      "1228/1228 [==============================] - 8s 6ms/step - loss: 28.0897 - val_loss: 28.4634\n",
      "Epoch 17/30\n",
      "1228/1228 [==============================] - 8s 7ms/step - loss: 28.0167 - val_loss: 28.2781\n",
      "Epoch 18/30\n",
      "1228/1228 [==============================] - 7s 6ms/step - loss: 27.9597 - val_loss: 28.2226\n",
      "Epoch 19/30\n",
      "1228/1228 [==============================] - 6s 5ms/step - loss: 27.9059 - val_loss: 28.2353\n",
      "Epoch 20/30\n",
      "1228/1228 [==============================] - 7s 6ms/step - loss: 27.8428 - val_loss: 28.1870\n",
      "Epoch 21/30\n",
      "1228/1228 [==============================] - 7s 6ms/step - loss: 27.7948 - val_loss: 28.1187\n",
      "Epoch 22/30\n",
      "1228/1228 [==============================] - 6s 5ms/step - loss: 27.7224 - val_loss: 28.0240\n",
      "Epoch 23/30\n",
      "1228/1228 [==============================] - 6s 5ms/step - loss: 27.6918 - val_loss: 28.1199\n",
      "Epoch 24/30\n",
      "1228/1228 [==============================] - 7s 6ms/step - loss: 27.6454 - val_loss: 27.9917\n",
      "Epoch 25/30\n",
      "1228/1228 [==============================] - 7s 6ms/step - loss: 27.5990 - val_loss: 27.9119\n",
      "Epoch 26/30\n",
      "1228/1228 [==============================] - 7s 6ms/step - loss: 27.5666 - val_loss: 27.9937\n",
      "Epoch 27/30\n",
      "1228/1228 [==============================] - 8s 6ms/step - loss: 27.5407 - val_loss: 27.7699\n",
      "Epoch 28/30\n",
      "1228/1228 [==============================] - 8s 6ms/step - loss: 27.5070 - val_loss: 27.7485\n",
      "Epoch 29/30\n",
      "1228/1228 [==============================] - 7s 6ms/step - loss: 27.4635 - val_loss: 27.7018\n",
      "Epoch 30/30\n",
      "1228/1228 [==============================] - 7s 6ms/step - loss: 27.4327 - val_loss: 27.9103\n"
     ]
    }
   ],
   "source": [
    "history = model.fit(x_train, y_train, validation_data=(x_valid,y_valid),epochs=30,callbacks=[keras.callbacks.EarlyStopping(patience=10)])"
   ]
  },
  {
   "cell_type": "code",
   "execution_count": 27,
   "metadata": {},
   "outputs": [
    {
     "name": "stdout",
     "output_type": "stream",
     "text": [
      "439/439 [==============================] - 1s 2ms/step\n"
     ]
    }
   ],
   "source": [
    "y_pred = model.predict(x_test)"
   ]
  },
  {
   "cell_type": "code",
   "execution_count": 28,
   "metadata": {},
   "outputs": [
    {
     "data": {
      "text/plain": [
       "2444.4461213249774"
      ]
     },
     "execution_count": 28,
     "metadata": {},
     "output_type": "execute_result"
    }
   ],
   "source": [
    "mean_squared_error(y_test,y_pred)"
   ]
  },
  {
   "attachments": {},
   "cell_type": "markdown",
   "metadata": {},
   "source": [
    "# Testing the model on test set provided by kaggle"
   ]
  },
  {
   "cell_type": "code",
   "execution_count": 57,
   "metadata": {},
   "outputs": [],
   "source": [
    "test_data, row_id_t = preprocessor(data_t)"
   ]
  },
  {
   "cell_type": "code",
   "execution_count": 60,
   "metadata": {},
   "outputs": [
    {
     "name": "stdout",
     "output_type": "stream",
     "text": [
      "548/548 [==============================] - 1s 1ms/step\n"
     ]
    }
   ],
   "source": [
    "final_result = pd.DataFrame(row_id_t).merge(pd.DataFrame(model.predict(test_data)), left_index=True, right_index=True, how='inner')"
   ]
  },
  {
   "cell_type": "code",
   "execution_count": 62,
   "metadata": {},
   "outputs": [],
   "source": [
    "final_result.to_csv('result.csv',index=False)"
   ]
  }
 ],
 "metadata": {
  "kernelspec": {
   "display_name": "base",
   "language": "python",
   "name": "python3"
  },
  "language_info": {
   "codemirror_mode": {
    "name": "ipython",
    "version": 3
   },
   "file_extension": ".py",
   "mimetype": "text/x-python",
   "name": "python",
   "nbconvert_exporter": "python",
   "pygments_lexer": "ipython3",
   "version": "3.9.12"
  },
  "orig_nbformat": 4,
  "vscode": {
   "interpreter": {
    "hash": "20a9e06a1eee47c4abbed4ec8225ad91d78d9800d202b71b6b0a6e47016c6abd"
   }
  }
 },
 "nbformat": 4,
 "nbformat_minor": 2
}
