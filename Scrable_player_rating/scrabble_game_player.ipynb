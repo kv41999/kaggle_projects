{
 "cells": [
  {
   "cell_type": "code",
   "execution_count": 29,
   "metadata": {},
   "outputs": [],
   "source": [
    "import pandas as pd\n",
    "import numpy as np\n",
    "from sklearn.preprocessing import OneHotEncoder,StandardScaler\n",
    "from sklearn.model_selection import train_test_split\n",
    "from sklearn.ensemble import RandomForestRegressor\n",
    "from sklearn.metrics import mean_squared_error, mean_absolute_error\n",
    "from sklearn.model_selection import GridSearchCV, RandomizedSearchCV\n",
    "from tensorflow import keras"
   ]
  },
  {
   "cell_type": "code",
   "execution_count": 30,
   "metadata": {},
   "outputs": [],
   "source": [
    "games = pd.read_csv('games.csv')\n",
    "turns = pd.read_csv('turns.csv')\n",
    "train = pd.read_csv('train.csv')\n",
    "test = pd.read_csv('test.csv')"
   ]
  },
  {
   "cell_type": "code",
   "execution_count": 31,
   "metadata": {},
   "outputs": [],
   "source": [
    "avg_points_per_turn = turns[['points','game_id','nickname']].groupby(['game_id','nickname']).mean().reset_index()"
   ]
  },
  {
   "cell_type": "code",
   "execution_count": 32,
   "metadata": {},
   "outputs": [],
   "source": [
    "total_number_of_turns = turns[['turn_number','game_id']].groupby(['game_id']).last().reset_index()"
   ]
  },
  {
   "cell_type": "code",
   "execution_count": 33,
   "metadata": {},
   "outputs": [],
   "source": [
    "def player_bot_categorize(data):\n",
    "    bot_player = []\n",
    "    for i in range(data.shape[0]):\n",
    "        if data.nickname[i] in ['BetterBot','STEEBot','HastyBot']:\n",
    "            bot_player.append('bot')\n",
    "        else:\n",
    "            bot_player.append('player')\n",
    "    data['bot_player'] = bot_player\n",
    "    return data"
   ]
  },
  {
   "cell_type": "code",
   "execution_count": 34,
   "metadata": {},
   "outputs": [],
   "source": [
    "avg_points_per_turn = player_bot_categorize(avg_points_per_turn)"
   ]
  },
  {
   "cell_type": "code",
   "execution_count": 35,
   "metadata": {},
   "outputs": [],
   "source": [
    "total_number_of_turns =  total_number_of_turns.merge(avg_points_per_turn[avg_points_per_turn['bot_player']=='bot'][['game_id','nickname']], on='game_id', how='left')\n",
    "total_number_of_turns = total_number_of_turns.merge(avg_points_per_turn[avg_points_per_turn['bot_player']=='bot'][['game_id','points']], on='game_id', how='left')\n",
    "total_number_of_turns = total_number_of_turns.merge(avg_points_per_turn[avg_points_per_turn['bot_player']=='player'][['game_id','points']], on='game_id', how='left')"
   ]
  },
  {
   "cell_type": "code",
   "execution_count": 36,
   "metadata": {},
   "outputs": [],
   "source": [
    "turns_new = total_number_of_turns.rename(columns={'turn_number':'total_turns','nickname':'bot_name','points_x':'bot_score_per_turn','points_y':'player_score_per_turn'})"
   ]
  },
  {
   "cell_type": "code",
   "execution_count": 37,
   "metadata": {},
   "outputs": [
    {
     "data": {
      "text/html": [
       "<div>\n",
       "<style scoped>\n",
       "    .dataframe tbody tr th:only-of-type {\n",
       "        vertical-align: middle;\n",
       "    }\n",
       "\n",
       "    .dataframe tbody tr th {\n",
       "        vertical-align: top;\n",
       "    }\n",
       "\n",
       "    .dataframe thead th {\n",
       "        text-align: right;\n",
       "    }\n",
       "</style>\n",
       "<table border=\"1\" class=\"dataframe\">\n",
       "  <thead>\n",
       "    <tr style=\"text-align: right;\">\n",
       "      <th></th>\n",
       "      <th>game_id</th>\n",
       "      <th>total_turns</th>\n",
       "      <th>bot_name</th>\n",
       "      <th>bot_score_per_turn</th>\n",
       "      <th>player_score_per_turn</th>\n",
       "    </tr>\n",
       "  </thead>\n",
       "  <tbody>\n",
       "    <tr>\n",
       "      <th>0</th>\n",
       "      <td>1</td>\n",
       "      <td>27</td>\n",
       "      <td>BetterBot</td>\n",
       "      <td>25.769231</td>\n",
       "      <td>30.642857</td>\n",
       "    </tr>\n",
       "    <tr>\n",
       "      <th>1</th>\n",
       "      <td>2</td>\n",
       "      <td>26</td>\n",
       "      <td>BetterBot</td>\n",
       "      <td>33.416667</td>\n",
       "      <td>34.857143</td>\n",
       "    </tr>\n",
       "    <tr>\n",
       "      <th>2</th>\n",
       "      <td>3</td>\n",
       "      <td>27</td>\n",
       "      <td>BetterBot</td>\n",
       "      <td>24.461538</td>\n",
       "      <td>31.428571</td>\n",
       "    </tr>\n",
       "    <tr>\n",
       "      <th>3</th>\n",
       "      <td>4</td>\n",
       "      <td>29</td>\n",
       "      <td>BetterBot</td>\n",
       "      <td>31.866667</td>\n",
       "      <td>8.500000</td>\n",
       "    </tr>\n",
       "    <tr>\n",
       "      <th>4</th>\n",
       "      <td>5</td>\n",
       "      <td>31</td>\n",
       "      <td>STEEBot</td>\n",
       "      <td>28.466667</td>\n",
       "      <td>20.312500</td>\n",
       "    </tr>\n",
       "    <tr>\n",
       "      <th>...</th>\n",
       "      <td>...</td>\n",
       "      <td>...</td>\n",
       "      <td>...</td>\n",
       "      <td>...</td>\n",
       "      <td>...</td>\n",
       "    </tr>\n",
       "    <tr>\n",
       "      <th>72768</th>\n",
       "      <td>72769</td>\n",
       "      <td>31</td>\n",
       "      <td>STEEBot</td>\n",
       "      <td>48.153846</td>\n",
       "      <td>21.333333</td>\n",
       "    </tr>\n",
       "    <tr>\n",
       "      <th>72769</th>\n",
       "      <td>72770</td>\n",
       "      <td>32</td>\n",
       "      <td>HastyBot</td>\n",
       "      <td>36.875000</td>\n",
       "      <td>6.062500</td>\n",
       "    </tr>\n",
       "    <tr>\n",
       "      <th>72770</th>\n",
       "      <td>72771</td>\n",
       "      <td>31</td>\n",
       "      <td>HastyBot</td>\n",
       "      <td>26.200000</td>\n",
       "      <td>24.375000</td>\n",
       "    </tr>\n",
       "    <tr>\n",
       "      <th>72771</th>\n",
       "      <td>72772</td>\n",
       "      <td>30</td>\n",
       "      <td>BetterBot</td>\n",
       "      <td>31.571429</td>\n",
       "      <td>24.250000</td>\n",
       "    </tr>\n",
       "    <tr>\n",
       "      <th>72772</th>\n",
       "      <td>72773</td>\n",
       "      <td>26</td>\n",
       "      <td>HastyBot</td>\n",
       "      <td>24.714286</td>\n",
       "      <td>31.916667</td>\n",
       "    </tr>\n",
       "  </tbody>\n",
       "</table>\n",
       "<p>72773 rows × 5 columns</p>\n",
       "</div>"
      ],
      "text/plain": [
       "       game_id  total_turns   bot_name  bot_score_per_turn  \\\n",
       "0            1           27  BetterBot           25.769231   \n",
       "1            2           26  BetterBot           33.416667   \n",
       "2            3           27  BetterBot           24.461538   \n",
       "3            4           29  BetterBot           31.866667   \n",
       "4            5           31    STEEBot           28.466667   \n",
       "...        ...          ...        ...                 ...   \n",
       "72768    72769           31    STEEBot           48.153846   \n",
       "72769    72770           32   HastyBot           36.875000   \n",
       "72770    72771           31   HastyBot           26.200000   \n",
       "72771    72772           30  BetterBot           31.571429   \n",
       "72772    72773           26   HastyBot           24.714286   \n",
       "\n",
       "       player_score_per_turn  \n",
       "0                  30.642857  \n",
       "1                  34.857143  \n",
       "2                  31.428571  \n",
       "3                   8.500000  \n",
       "4                  20.312500  \n",
       "...                      ...  \n",
       "72768              21.333333  \n",
       "72769               6.062500  \n",
       "72770              24.375000  \n",
       "72771              24.250000  \n",
       "72772              31.916667  \n",
       "\n",
       "[72773 rows x 5 columns]"
      ]
     },
     "execution_count": 37,
     "metadata": {},
     "output_type": "execute_result"
    }
   ],
   "source": [
    "turns_new"
   ]
  },
  {
   "cell_type": "code",
   "execution_count": 38,
   "metadata": {},
   "outputs": [],
   "source": [
    "train = player_bot_categorize(train)\n",
    "test = player_bot_categorize(test)\n",
    "tt_concat = pd.concat([train,test])"
   ]
  },
  {
   "cell_type": "code",
   "execution_count": 39,
   "metadata": {},
   "outputs": [
    {
     "data": {
      "text/html": [
       "<div>\n",
       "<style scoped>\n",
       "    .dataframe tbody tr th:only-of-type {\n",
       "        vertical-align: middle;\n",
       "    }\n",
       "\n",
       "    .dataframe tbody tr th {\n",
       "        vertical-align: top;\n",
       "    }\n",
       "\n",
       "    .dataframe thead th {\n",
       "        text-align: right;\n",
       "    }\n",
       "</style>\n",
       "<table border=\"1\" class=\"dataframe\">\n",
       "  <thead>\n",
       "    <tr style=\"text-align: right;\">\n",
       "      <th></th>\n",
       "      <th>game_id</th>\n",
       "      <th>nickname</th>\n",
       "      <th>score</th>\n",
       "      <th>rating</th>\n",
       "      <th>bot_player</th>\n",
       "    </tr>\n",
       "  </thead>\n",
       "  <tbody>\n",
       "    <tr>\n",
       "      <th>0</th>\n",
       "      <td>1</td>\n",
       "      <td>BetterBot</td>\n",
       "      <td>335</td>\n",
       "      <td>1637.0</td>\n",
       "      <td>bot</td>\n",
       "    </tr>\n",
       "    <tr>\n",
       "      <th>1</th>\n",
       "      <td>1</td>\n",
       "      <td>stevy</td>\n",
       "      <td>429</td>\n",
       "      <td>1500.0</td>\n",
       "      <td>player</td>\n",
       "    </tr>\n",
       "    <tr>\n",
       "      <th>2</th>\n",
       "      <td>3</td>\n",
       "      <td>davidavid</td>\n",
       "      <td>440</td>\n",
       "      <td>1811.0</td>\n",
       "      <td>player</td>\n",
       "    </tr>\n",
       "    <tr>\n",
       "      <th>3</th>\n",
       "      <td>3</td>\n",
       "      <td>BetterBot</td>\n",
       "      <td>318</td>\n",
       "      <td>2071.0</td>\n",
       "      <td>bot</td>\n",
       "    </tr>\n",
       "    <tr>\n",
       "      <th>4</th>\n",
       "      <td>4</td>\n",
       "      <td>Inandoutworker</td>\n",
       "      <td>119</td>\n",
       "      <td>1473.0</td>\n",
       "      <td>player</td>\n",
       "    </tr>\n",
       "    <tr>\n",
       "      <th>...</th>\n",
       "      <td>...</td>\n",
       "      <td>...</td>\n",
       "      <td>...</td>\n",
       "      <td>...</td>\n",
       "      <td>...</td>\n",
       "    </tr>\n",
       "    <tr>\n",
       "      <th>44721</th>\n",
       "      <td>72762</td>\n",
       "      <td>kyjo55555</td>\n",
       "      <td>367</td>\n",
       "      <td>NaN</td>\n",
       "      <td>player</td>\n",
       "    </tr>\n",
       "    <tr>\n",
       "      <th>44722</th>\n",
       "      <td>72768</td>\n",
       "      <td>HastyBot</td>\n",
       "      <td>524</td>\n",
       "      <td>2356.0</td>\n",
       "      <td>bot</td>\n",
       "    </tr>\n",
       "    <tr>\n",
       "      <th>44723</th>\n",
       "      <td>72768</td>\n",
       "      <td>Maximilian</td>\n",
       "      <td>357</td>\n",
       "      <td>NaN</td>\n",
       "      <td>player</td>\n",
       "    </tr>\n",
       "    <tr>\n",
       "      <th>44724</th>\n",
       "      <td>72769</td>\n",
       "      <td>STEEBot</td>\n",
       "      <td>626</td>\n",
       "      <td>2110.0</td>\n",
       "      <td>bot</td>\n",
       "    </tr>\n",
       "    <tr>\n",
       "      <th>44725</th>\n",
       "      <td>72769</td>\n",
       "      <td>browndav</td>\n",
       "      <td>384</td>\n",
       "      <td>NaN</td>\n",
       "      <td>player</td>\n",
       "    </tr>\n",
       "  </tbody>\n",
       "</table>\n",
       "<p>145546 rows × 5 columns</p>\n",
       "</div>"
      ],
      "text/plain": [
       "       game_id        nickname  score  rating bot_player\n",
       "0            1       BetterBot    335  1637.0        bot\n",
       "1            1           stevy    429  1500.0     player\n",
       "2            3       davidavid    440  1811.0     player\n",
       "3            3       BetterBot    318  2071.0        bot\n",
       "4            4  Inandoutworker    119  1473.0     player\n",
       "...        ...             ...    ...     ...        ...\n",
       "44721    72762       kyjo55555    367     NaN     player\n",
       "44722    72768        HastyBot    524  2356.0        bot\n",
       "44723    72768      Maximilian    357     NaN     player\n",
       "44724    72769         STEEBot    626  2110.0        bot\n",
       "44725    72769        browndav    384     NaN     player\n",
       "\n",
       "[145546 rows x 5 columns]"
      ]
     },
     "execution_count": 39,
     "metadata": {},
     "output_type": "execute_result"
    }
   ],
   "source": [
    "tt_concat"
   ]
  },
  {
   "cell_type": "code",
   "execution_count": 40,
   "metadata": {},
   "outputs": [],
   "source": [
    "turns_new = turns_new.merge(tt_concat[tt_concat['bot_player']=='bot'][['game_id','score']],on='game_id',how='left')\n",
    "turns_new = turns_new.merge(tt_concat[tt_concat['bot_player']=='player'][['game_id','score']],on='game_id',how='left')\n",
    "turns_new = turns_new.merge(tt_concat[tt_concat['bot_player']=='bot'][['game_id','rating']],on='game_id',how='left')\n",
    "turns_new = turns_new.merge(tt_concat[tt_concat['bot_player']=='player'][['game_id','rating']],on='game_id',how='left')"
   ]
  },
  {
   "cell_type": "code",
   "execution_count": 41,
   "metadata": {},
   "outputs": [],
   "source": [
    "turns_new = turns_new.rename(columns={'score_x':'bot_total_score','score_y':'player_total_score','rating_x':'bot_rating','rating_y':'player_rating'})"
   ]
  },
  {
   "cell_type": "code",
   "execution_count": 42,
   "metadata": {},
   "outputs": [
    {
     "data": {
      "text/html": [
       "<div>\n",
       "<style scoped>\n",
       "    .dataframe tbody tr th:only-of-type {\n",
       "        vertical-align: middle;\n",
       "    }\n",
       "\n",
       "    .dataframe tbody tr th {\n",
       "        vertical-align: top;\n",
       "    }\n",
       "\n",
       "    .dataframe thead th {\n",
       "        text-align: right;\n",
       "    }\n",
       "</style>\n",
       "<table border=\"1\" class=\"dataframe\">\n",
       "  <thead>\n",
       "    <tr style=\"text-align: right;\">\n",
       "      <th></th>\n",
       "      <th>game_id</th>\n",
       "      <th>total_turns</th>\n",
       "      <th>bot_name</th>\n",
       "      <th>bot_score_per_turn</th>\n",
       "      <th>player_score_per_turn</th>\n",
       "      <th>bot_total_score</th>\n",
       "      <th>player_total_score</th>\n",
       "      <th>bot_rating</th>\n",
       "      <th>player_rating</th>\n",
       "    </tr>\n",
       "  </thead>\n",
       "  <tbody>\n",
       "    <tr>\n",
       "      <th>0</th>\n",
       "      <td>1</td>\n",
       "      <td>27</td>\n",
       "      <td>BetterBot</td>\n",
       "      <td>25.769231</td>\n",
       "      <td>30.642857</td>\n",
       "      <td>335</td>\n",
       "      <td>429</td>\n",
       "      <td>1637.0</td>\n",
       "      <td>1500.0</td>\n",
       "    </tr>\n",
       "    <tr>\n",
       "      <th>1</th>\n",
       "      <td>2</td>\n",
       "      <td>26</td>\n",
       "      <td>BetterBot</td>\n",
       "      <td>33.416667</td>\n",
       "      <td>34.857143</td>\n",
       "      <td>401</td>\n",
       "      <td>488</td>\n",
       "      <td>2000.0</td>\n",
       "      <td>NaN</td>\n",
       "    </tr>\n",
       "    <tr>\n",
       "      <th>2</th>\n",
       "      <td>3</td>\n",
       "      <td>27</td>\n",
       "      <td>BetterBot</td>\n",
       "      <td>24.461538</td>\n",
       "      <td>31.428571</td>\n",
       "      <td>318</td>\n",
       "      <td>440</td>\n",
       "      <td>2071.0</td>\n",
       "      <td>1811.0</td>\n",
       "    </tr>\n",
       "    <tr>\n",
       "      <th>3</th>\n",
       "      <td>4</td>\n",
       "      <td>29</td>\n",
       "      <td>BetterBot</td>\n",
       "      <td>31.866667</td>\n",
       "      <td>8.500000</td>\n",
       "      <td>478</td>\n",
       "      <td>119</td>\n",
       "      <td>1936.0</td>\n",
       "      <td>1473.0</td>\n",
       "    </tr>\n",
       "    <tr>\n",
       "      <th>4</th>\n",
       "      <td>5</td>\n",
       "      <td>31</td>\n",
       "      <td>STEEBot</td>\n",
       "      <td>28.466667</td>\n",
       "      <td>20.312500</td>\n",
       "      <td>427</td>\n",
       "      <td>325</td>\n",
       "      <td>1844.0</td>\n",
       "      <td>1500.0</td>\n",
       "    </tr>\n",
       "    <tr>\n",
       "      <th>...</th>\n",
       "      <td>...</td>\n",
       "      <td>...</td>\n",
       "      <td>...</td>\n",
       "      <td>...</td>\n",
       "      <td>...</td>\n",
       "      <td>...</td>\n",
       "      <td>...</td>\n",
       "      <td>...</td>\n",
       "      <td>...</td>\n",
       "    </tr>\n",
       "    <tr>\n",
       "      <th>72768</th>\n",
       "      <td>72769</td>\n",
       "      <td>31</td>\n",
       "      <td>STEEBot</td>\n",
       "      <td>48.153846</td>\n",
       "      <td>21.333333</td>\n",
       "      <td>626</td>\n",
       "      <td>384</td>\n",
       "      <td>2110.0</td>\n",
       "      <td>NaN</td>\n",
       "    </tr>\n",
       "    <tr>\n",
       "      <th>72769</th>\n",
       "      <td>72770</td>\n",
       "      <td>32</td>\n",
       "      <td>HastyBot</td>\n",
       "      <td>36.875000</td>\n",
       "      <td>6.062500</td>\n",
       "      <td>590</td>\n",
       "      <td>97</td>\n",
       "      <td>2237.0</td>\n",
       "      <td>1332.0</td>\n",
       "    </tr>\n",
       "    <tr>\n",
       "      <th>72770</th>\n",
       "      <td>72771</td>\n",
       "      <td>31</td>\n",
       "      <td>HastyBot</td>\n",
       "      <td>26.200000</td>\n",
       "      <td>24.375000</td>\n",
       "      <td>393</td>\n",
       "      <td>390</td>\n",
       "      <td>1614.0</td>\n",
       "      <td>1500.0</td>\n",
       "    </tr>\n",
       "    <tr>\n",
       "      <th>72771</th>\n",
       "      <td>72772</td>\n",
       "      <td>30</td>\n",
       "      <td>BetterBot</td>\n",
       "      <td>31.571429</td>\n",
       "      <td>24.250000</td>\n",
       "      <td>442</td>\n",
       "      <td>388</td>\n",
       "      <td>1674.0</td>\n",
       "      <td>1364.0</td>\n",
       "    </tr>\n",
       "    <tr>\n",
       "      <th>72772</th>\n",
       "      <td>72773</td>\n",
       "      <td>26</td>\n",
       "      <td>HastyBot</td>\n",
       "      <td>24.714286</td>\n",
       "      <td>31.916667</td>\n",
       "      <td>346</td>\n",
       "      <td>383</td>\n",
       "      <td>2302.0</td>\n",
       "      <td>2075.0</td>\n",
       "    </tr>\n",
       "  </tbody>\n",
       "</table>\n",
       "<p>72773 rows × 9 columns</p>\n",
       "</div>"
      ],
      "text/plain": [
       "       game_id  total_turns   bot_name  bot_score_per_turn  \\\n",
       "0            1           27  BetterBot           25.769231   \n",
       "1            2           26  BetterBot           33.416667   \n",
       "2            3           27  BetterBot           24.461538   \n",
       "3            4           29  BetterBot           31.866667   \n",
       "4            5           31    STEEBot           28.466667   \n",
       "...        ...          ...        ...                 ...   \n",
       "72768    72769           31    STEEBot           48.153846   \n",
       "72769    72770           32   HastyBot           36.875000   \n",
       "72770    72771           31   HastyBot           26.200000   \n",
       "72771    72772           30  BetterBot           31.571429   \n",
       "72772    72773           26   HastyBot           24.714286   \n",
       "\n",
       "       player_score_per_turn  bot_total_score  player_total_score  bot_rating  \\\n",
       "0                  30.642857              335                 429      1637.0   \n",
       "1                  34.857143              401                 488      2000.0   \n",
       "2                  31.428571              318                 440      2071.0   \n",
       "3                   8.500000              478                 119      1936.0   \n",
       "4                  20.312500              427                 325      1844.0   \n",
       "...                      ...              ...                 ...         ...   \n",
       "72768              21.333333              626                 384      2110.0   \n",
       "72769               6.062500              590                  97      2237.0   \n",
       "72770              24.375000              393                 390      1614.0   \n",
       "72771              24.250000              442                 388      1674.0   \n",
       "72772              31.916667              346                 383      2302.0   \n",
       "\n",
       "       player_rating  \n",
       "0             1500.0  \n",
       "1                NaN  \n",
       "2             1811.0  \n",
       "3             1473.0  \n",
       "4             1500.0  \n",
       "...              ...  \n",
       "72768            NaN  \n",
       "72769         1332.0  \n",
       "72770         1500.0  \n",
       "72771         1364.0  \n",
       "72772         2075.0  \n",
       "\n",
       "[72773 rows x 9 columns]"
      ]
     },
     "execution_count": 42,
     "metadata": {},
     "output_type": "execute_result"
    }
   ],
   "source": [
    "turns_new"
   ]
  },
  {
   "cell_type": "code",
   "execution_count": 43,
   "metadata": {},
   "outputs": [],
   "source": [
    "data = games.merge(turns_new, on='game_id', how='left')"
   ]
  },
  {
   "cell_type": "code",
   "execution_count": 44,
   "metadata": {},
   "outputs": [],
   "source": [
    "train_new = data[data.player_rating.isnull() == False].reset_index(drop=True)\n",
    "test_new = data[data.player_rating.isnull() == True].reset_index(drop=True)"
   ]
  },
  {
   "cell_type": "code",
   "execution_count": 45,
   "metadata": {},
   "outputs": [],
   "source": [
    "def preprocessing(data):\n",
    "    game_id = data['game_id']\n",
    "    data.drop(columns=['game_id','created_at'],inplace=True)\n",
    "    \n",
    "    first = []\n",
    "    for i in range(data.shape[0]):\n",
    "        if data['first'][i] in ['BetterBot','STEEBot','HastyBot']:\n",
    "            first.append(0)\n",
    "        else:\n",
    "            first.append(1)\n",
    "    data['first'] = first\n",
    "\n",
    "    ohe = OneHotEncoder()\n",
    "    features_transformed = ohe.fit_transform(data[['time_control_name','game_end_reason','lexicon','rating_mode','bot_name']]).toarray()\n",
    "    feature_labels = ohe.categories_\n",
    "    feature_labels = np.hstack(feature_labels)\n",
    "\n",
    "    data = pd.DataFrame(features_transformed,columns=feature_labels).merge(data.drop(columns=['time_control_name','game_end_reason','lexicon','rating_mode','bot_name']),left_index=True,right_index=True,how='inner')\n",
    "    return data,game_id"
   ]
  },
  {
   "cell_type": "code",
   "execution_count": 46,
   "metadata": {},
   "outputs": [],
   "source": [
    "train_new, game_id_train = preprocessing(train_new)"
   ]
  },
  {
   "cell_type": "code",
   "execution_count": 47,
   "metadata": {},
   "outputs": [],
   "source": [
    "train_new = train_new.drop(columns='NSWL20')"
   ]
  },
  {
   "cell_type": "code",
   "execution_count": 48,
   "metadata": {},
   "outputs": [],
   "source": [
    "x_train, x_test, y_train, y_test = train_test_split(train_new.iloc[:,:28],train_new.iloc[:,28],test_size=0.15,random_state=42)"
   ]
  },
  {
   "cell_type": "code",
   "execution_count": 49,
   "metadata": {},
   "outputs": [],
   "source": [
    "# ss = StandardScaler()\n",
    "# x_train = ss.fit_transform(x_train)\n",
    "# x_test = ss.fit_transform(x_test)"
   ]
  },
  {
   "cell_type": "code",
   "execution_count": 50,
   "metadata": {},
   "outputs": [
    {
     "data": {
      "text/plain": [
       "RandomForestRegressor(max_depth=20, n_estimators=300, n_jobs=-1)"
      ]
     },
     "execution_count": 50,
     "metadata": {},
     "output_type": "execute_result"
    }
   ],
   "source": [
    "rfr = RandomForestRegressor(n_estimators=300,max_depth=20,n_jobs=-1)\n",
    "rfr.fit(x_train,y_train)"
   ]
  },
  {
   "cell_type": "code",
   "execution_count": 51,
   "metadata": {},
   "outputs": [],
   "source": [
    "y_pred = rfr.predict(x_test)"
   ]
  },
  {
   "cell_type": "code",
   "execution_count": 52,
   "metadata": {},
   "outputs": [
    {
     "name": "stdout",
     "output_type": "stream",
     "text": [
      "107.2284760986435 \n",
      " 69.98389298125768\n"
     ]
    }
   ],
   "source": [
    "print(np.sqrt(mean_squared_error(y_test,y_pred)),'\\n',mean_absolute_error(y_test,y_pred))"
   ]
  },
  {
   "cell_type": "code",
   "execution_count": 53,
   "metadata": {},
   "outputs": [
    {
     "name": "stdout",
     "output_type": "stream",
     "text": [
      "107.2284760986435 \n",
      " 69.98389298125768\n"
     ]
    }
   ],
   "source": [
    "print(np.sqrt(mean_squared_error(y_test,y_pred)),'\\n',mean_absolute_error(y_test,y_pred))"
   ]
  },
  {
   "cell_type": "code",
   "execution_count": 54,
   "metadata": {},
   "outputs": [],
   "source": [
    "test, game_id_test = preprocessing(test_new)"
   ]
  },
  {
   "cell_type": "code",
   "execution_count": 56,
   "metadata": {},
   "outputs": [],
   "source": [
    "final = pd.concat([game_id_test,pd.Series(rfr.predict(test.drop(columns=['player_rating'])))],axis=1)"
   ]
  },
  {
   "cell_type": "code",
   "execution_count": 59,
   "metadata": {},
   "outputs": [],
   "source": [
    "final.rename(columns={0:'rating'},inplace=True)"
   ]
  },
  {
   "cell_type": "code",
   "execution_count": 61,
   "metadata": {},
   "outputs": [],
   "source": [
    "final.to_csv('my_sub.csv',index=False)"
   ]
  },
  {
   "cell_type": "code",
   "execution_count": null,
   "metadata": {},
   "outputs": [
    {
     "data": {
      "text/plain": [
       "Index(['game_id', 'nickname', 'score', 'rating', 'bot_player'], dtype='object')"
      ]
     },
     "execution_count": 30,
     "metadata": {},
     "output_type": "execute_result"
    }
   ],
   "source": [
    "train.columns"
   ]
  }
 ],
 "metadata": {
  "kernelspec": {
   "display_name": "base",
   "language": "python",
   "name": "python3"
  },
  "language_info": {
   "codemirror_mode": {
    "name": "ipython",
    "version": 3
   },
   "file_extension": ".py",
   "mimetype": "text/x-python",
   "name": "python",
   "nbconvert_exporter": "python",
   "pygments_lexer": "ipython3",
   "version": "3.9.12"
  },
  "orig_nbformat": 4,
  "vscode": {
   "interpreter": {
    "hash": "20a9e06a1eee47c4abbed4ec8225ad91d78d9800d202b71b6b0a6e47016c6abd"
   }
  }
 },
 "nbformat": 4,
 "nbformat_minor": 2
}
